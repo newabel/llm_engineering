{
 "cells": [
  {
   "cell_type": "markdown",
   "id": "fe12c203-e6a6-452c-a655-afb8a03a4ff5",
   "metadata": {},
   "source": [
    "# End of week 1 exercise\n",
    "\n",
    "To demonstrate your familiarity with OpenAI API, and also Ollama, build a tool that takes a technical question,  \n",
    "and responds with an explanation. This is a tool that you will be able to use yourself during the course!"
   ]
  },
  {
   "cell_type": "code",
   "execution_count": 1,
   "id": "c1070317-3ed9-4659-abe3-828943230e03",
   "metadata": {},
   "outputs": [],
   "source": [
    "# imports\n",
    "import os\n",
    "import requests\n",
    "import json\n",
    "from typing import List\n",
    "from dotenv import load_dotenv\n",
    "from bs4 import BeautifulSoup\n",
    "from IPython.display import Markdown, display, update_display\n",
    "from openai import OpenAI\n",
    "import ollama"
   ]
  },
  {
   "cell_type": "code",
   "execution_count": 2,
   "id": "4a456906-915a-4bfd-bb9d-57e505c5093f",
   "metadata": {},
   "outputs": [],
   "source": [
    "# constants\n",
    "\n",
    "MODEL_GPT = 'gpt-4o-mini'\n",
    "MODEL_LLAMA = 'llama3.2'"
   ]
  },
  {
   "cell_type": "code",
   "execution_count": 4,
   "id": "a8d7923c-5f28-4c30-8556-342d7c8497c1",
   "metadata": {},
   "outputs": [
    {
     "name": "stdout",
     "output_type": "stream",
     "text": [
      "API key looks good so far\n"
     ]
    }
   ],
   "source": [
    "# set up environment\n",
    "# Initialize and constants\n",
    "\n",
    "load_dotenv(override=True)\n",
    "api_key = os.getenv('OPENAI_API_KEY')\n",
    "\n",
    "if api_key and api_key.startswith('sk-proj-') and len(api_key)>10:\n",
    "    print(\"API key looks good so far\")\n",
    "else:\n",
    "    print(\"There might be a problem with your API key? Please visit the troubleshooting notebook!\")\n",
    "openai = OpenAI()"
   ]
  },
  {
   "cell_type": "code",
   "execution_count": 8,
   "id": "3f0d0137-52b0-47a8-81a8-11a90a010798",
   "metadata": {},
   "outputs": [],
   "source": [
    "# here is the question; type over this to ask something new\n",
    "\n",
    "question = \"\"\"\n",
    "Please explain what this code does and why:\n",
    "yield from {book.get(\"author\") for book in books if book.get(\"author\")}\n",
    "\"\"\""
   ]
  },
  {
   "cell_type": "code",
   "execution_count": 5,
   "id": "97098690-9fa9-4677-93d7-2e437ffac936",
   "metadata": {},
   "outputs": [],
   "source": [
    "system_prompt = \"You are a tool that helps a user to understand what lines in a program do. Respond in markdown.\""
   ]
  },
  {
   "cell_type": "code",
   "execution_count": 10,
   "id": "60ce7000-a4a5-4cce-a261-e75ef45063b4",
   "metadata": {},
   "outputs": [],
   "source": [
    "# Get gpt-4o-mini to answer, with streaming\n",
    "def stream_code_help_openai(question):\n",
    "    stream = openai.chat.completions.create(\n",
    "        model=MODEL_GPT,\n",
    "        messages=[\n",
    "            {\"role\": \"system\", \"content\": system_prompt},\n",
    "            {\"role\": \"user\", \"content\": question}\n",
    "          ],\n",
    "        stream=True\n",
    "    )\n",
    "    \n",
    "    response = \"\"\n",
    "    display_handle = display(Markdown(\"\"), display_id=True)\n",
    "    for chunk in stream:\n",
    "        response += chunk.choices[0].delta.content or ''\n",
    "        response = response.replace(\"```\",\"\").replace(\"markdown\", \"\")\n",
    "        update_display(Markdown(response), display_id=display_handle.display_id)"
   ]
  },
  {
   "cell_type": "code",
   "execution_count": 9,
   "id": "8e217c2c-c1a5-466d-99c2-1e7d6de39251",
   "metadata": {},
   "outputs": [
    {
     "data": {
      "text/markdown": [
       "Certainly! Let's break down the code piece by piece:\n",
       "\n",
       "python\n",
       "yield from {book.get(\"author\") for book in books if book.get(\"author\")}\n",
       "\n",
       "\n",
       "### Explanation:\n",
       "\n",
       "1. **Set Comprehension**: \n",
       "   - The expression `{book.get(\"author\") for book in books if book.get(\"author\")}` is a set comprehension. \n",
       "   - It iterates over each `book` in the collection `books`.\n",
       "\n",
       "2. **Extracting Author**: \n",
       "   - For each `book`, it attempts to get the value associated with the key `\"author\"` using `book.get(\"author\")`.\n",
       "   - The `get` method is used here because it returns `None` if the key does not exist, which prevents a `KeyError`.\n",
       "\n",
       "3. **Filtering**: \n",
       "   - The `if book.get(\"author\")` part filters the results. \n",
       "   - Only those `book` entries are included where the `\"author\"` key exists and its value is truthy (i.e., not `None`, empty, or `False`).\n",
       "\n",
       "4. **Creating a Set**:\n",
       "   - The result of the set comprehension is a set of unique authors (since sets automatically handle duplicates).\n",
       "\n",
       "5. **Yielding Results**:\n",
       "   - The `yield from` statement is used in a generator. \n",
       "   - It allows the generator to yield each item from the set (i.e., each distinct author name) one at a time.\n",
       "   - This is useful in cases where you want to produce values iteratively and efficiently, particularly in a loop.\n",
       "\n",
       "### Why It's Useful:\n",
       "\n",
       "- **Avoid Duplicates**: By using a set, the code ensures that each author is only yielded once, even if multiple books by the same author exist in the `books` collection.\n",
       "- **Efficient Iteration**: The `yield from` construct allows for efficient iteration over the collection of authors without needing to explicitly loop through them in the generator function.\n",
       "\n",
       "### Example Context:\n",
       "\n",
       "Imagine you are processing a list of books, and you want to get a unique list of authors from them. This code snippet helps achieve that efficiently and neatly by combining filtering, extraction, and yielding of results.\n",
       "\n",
       "### Summary:\n",
       "\n",
       "In summary, this code constructs a set of unique authors from a list of `book` dictionaries and yields each unique author, thereby efficiently generating a stream of author names without duplicates."
      ],
      "text/plain": [
       "<IPython.core.display.Markdown object>"
      ]
     },
     "metadata": {},
     "output_type": "display_data"
    }
   ],
   "source": [
    "stream_code_help_openai(question)"
   ]
  },
  {
   "cell_type": "code",
   "execution_count": 14,
   "id": "8f7c8ea8-4082-4ad0-8751-3301adcf6538",
   "metadata": {},
   "outputs": [],
   "source": [
    "# Get Llama 3.2 to answer\n",
    "def stream_code_help_llama(question):\n",
    "    stream =ollama.chat(\n",
    "        model=MODEL_LLAMA,\n",
    "        messages=[\n",
    "            {\"role\": \"system\", \"content\": system_prompt},\n",
    "            {\"role\": \"user\", \"content\": question}\n",
    "          ],\n",
    "        stream=True\n",
    "    )\n",
    "    \n",
    "    response = \"\"\n",
    "    display_handle = display(Markdown(\"\"), display_id=True)\n",
    "    for chunk in stream:\n",
    "        response += chunk['message']['content'] or ''\n",
    "        response = response.replace(\"```\",\"\").replace(\"markdown\", \"\")\n",
    "        update_display(Markdown(response), display_id=display_handle.display_id)"
   ]
  },
  {
   "cell_type": "code",
   "execution_count": 15,
   "id": "fb13a034-644f-41a1-8db1-b678e3778c3a",
   "metadata": {},
   "outputs": [
    {
     "data": {
      "text/markdown": [
       "**Code Explanation**\n",
       "===============\n",
       "\n",
       "The given code uses Python's generator syntax to extract the authors of books from a list of dictionaries.\n",
       "\n",
       "python\n",
       "yield from {book.get(\"author\") for book in books if book.get(\"author\")}\n",
       "\n",
       "\n",
       "Here's a breakdown:\n",
       "\n",
       "*   `for book in books`: This part iterates over each dictionary (`book`) in the `books` list.\n",
       "*   `if book.get(\"author\")`: This condition filters out dictionaries that don't have an \"author\" key.\n",
       "*   `{book.get(\"author\") for book in books if book.get(\"author\")}`: This is a generator expression, which creates a sequence of values. In this case, it yields the author of each dictionary that passes the filter.\n",
       "\n",
       "**How it works**\n",
       "----------------\n",
       "\n",
       "1.  The `yield from` statement tells Python to delegate the iteration over the sequence to an inner iterator (the generator expression).\n",
       "2.  The generator expression iterates over each book in the list.\n",
       "3.  If a book has an \"author\" key, its value is yielded.\n",
       "\n",
       "**Example Use Case**\n",
       "--------------------\n",
       "\n",
       "Suppose you have the following `books` list:\n",
       "\n",
       "python\n",
       "books = [\n",
       "    {\"title\": \"Book A\", \"author\": \"John Doe\"},\n",
       "    {\"title\": \"Book B\", \"author\": \"Jane Smith\"},\n",
       "    {\"title\": \"Book C\"}\n",
       "]\n",
       "\n",
       "\n",
       "If you run the given code, it will yield the authors of books with an author:\n",
       "\n",
       "python\n",
       "[\n",
       "    \"John Doe\",\n",
       "    \"Jane Smith\"\n",
       "]\n",
       "\n",
       "\n",
       "**Benefits**\n",
       "------------\n",
       "\n",
       "Using generator expressions and `yield from` provides several benefits, including:\n",
       "\n",
       "*   Improved memory efficiency: Generators don't load all values into memory at once.\n",
       "*   Easier to implement recursive functions or infinite sequences.\n",
       "\n",
       "Overall, this code snippet is a concise way to extract specific data from a list of dictionaries while filtering out unwanted items."
      ],
      "text/plain": [
       "<IPython.core.display.Markdown object>"
      ]
     },
     "metadata": {},
     "output_type": "display_data"
    }
   ],
   "source": [
    "stream_code_help_llama(question)"
   ]
  },
  {
   "cell_type": "code",
   "execution_count": null,
   "id": "148c1728-ef3e-4009-a401-fe1d3ef8cd49",
   "metadata": {},
   "outputs": [],
   "source": []
  }
 ],
 "metadata": {
  "kernelspec": {
   "display_name": "Python 3 (ipykernel)",
   "language": "python",
   "name": "python3"
  },
  "language_info": {
   "codemirror_mode": {
    "name": "ipython",
    "version": 3
   },
   "file_extension": ".py",
   "mimetype": "text/x-python",
   "name": "python",
   "nbconvert_exporter": "python",
   "pygments_lexer": "ipython3",
   "version": "3.9.12"
  }
 },
 "nbformat": 4,
 "nbformat_minor": 5
}
